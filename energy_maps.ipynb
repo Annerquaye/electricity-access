{
  "nbformat": 4,
  "nbformat_minor": 0,
  "metadata": {
    "colab": {
      "name": "energy-maps.ipynb",
      "provenance": [],
      "collapsed_sections": []
    },
    "kernelspec": {
      "name": "python3",
      "display_name": "Python 3"
    },
    "language_info": {
      "name": "python"
    }
  },
  "cells": [
    {
      "cell_type": "code",
      "execution_count": 1,
      "metadata": {
        "id": "BdV35CHdOvtj",
        "colab": {
          "base_uri": "https://localhost:8080/"
        },
        "outputId": "a0b467de-cc9c-413c-d2eb-4ddae5f0f475"
      },
      "outputs": [
        {
          "output_type": "stream",
          "name": "stderr",
          "text": [
            "/usr/local/lib/python3.7/dist-packages/requests/__init__.py:91: RequestsDependencyWarning: urllib3 (1.26.9) or chardet (3.0.4) doesn't match a supported version!\n",
            "  RequestsDependencyWarning)\n"
          ]
        }
      ],
      "source": [
        "import pandas as pd\n",
        "import numpy as np\n",
        "import altair as alt\n",
        "from zipfile import ZipFile\n",
        "import requests\n",
        "import io\n"
      ]
    },
    {
      "cell_type": "code",
      "source": [
        "!pip install geopandas"
      ],
      "metadata": {
        "id": "ZiIBKVnNKJ3O"
      },
      "execution_count": null,
      "outputs": []
    },
    {
      "cell_type": "code",
      "source": [
        "import geopandas as gpd"
      ],
      "metadata": {
        "id": "qoIeixv9KLsD"
      },
      "execution_count": 138,
      "outputs": []
    },
    {
      "cell_type": "code",
      "source": [
        "#Source of data is https://ourworldindata.org/\n",
        "df = pd.read_csv(\"electricty.csv\")\n",
        "\n"
      ],
      "metadata": {
        "id": "M8iTHLGkGur7"
      },
      "execution_count": 16,
      "outputs": []
    },
    {
      "cell_type": "code",
      "source": [
        "#Renaming columns\n",
        "df = df.rename(columns={'Access to electricity (% of population)':'% of people with electricity access', 'Entity': 'Country'})\n"
      ],
      "metadata": {
        "id": "Pz1Ovtv2JPz4"
      },
      "execution_count": 4,
      "outputs": []
    },
    {
      "cell_type": "code",
      "source": [
        "#Removing non-countries\n",
        "electricity2019 = df[df.Year==2019]\n",
        "\n",
        "electricity2019 = electricity2019[electricity2019.Country !='Low income']"
      ],
      "metadata": {
        "id": "14jmIAATJL-u"
      },
      "execution_count": 5,
      "outputs": []
    },
    {
      "cell_type": "code",
      "source": [
        "#Finding out the bottom 20 countries\n",
        "electricity2019 = electricity2019.sort_values(by='% of people with electricity access', ascending=False).tail(20)\n",
        "electricity2019"
      ],
      "metadata": {
        "id": "pDoHOj1pc_de"
      },
      "execution_count": null,
      "outputs": []
    },
    {
      "cell_type": "code",
      "source": [
        "#Plotting countries using altair\n",
        "\n",
        "bars = alt.Chart(electricity2019, title=\"All 20 countries with lowest access to electricity are in Africa\").mark_bar(size=15).encode(\n",
        "    x='Country',\n",
        "    y = alt.Y('% of people with electricity access', bin = False, scale=alt.Scale(domain=[0, 100])),\n",
        "    opacity=alt.value(0.2),\n",
        "    color=alt.value('blue')\n",
        ").properties(width=400,\n",
        "             height=250\n",
        ").configure_axisX(labelAngle=40)\n",
        "\n",
        "\n",
        "bars.save('chart.html', embed_options={'renderer':'svg'})\n",
        "\n",
        "bars"
      ],
      "metadata": {
        "colab": {
          "base_uri": "https://localhost:8080/",
          "height": 420
        },
        "id": "RpPYHOq-ZKoW",
        "outputId": "9d445570-274e-4ae4-adc9-bccc7123c15e"
      },
      "execution_count": 7,
      "outputs": [
        {
          "output_type": "execute_result",
          "data": {
            "text/html": [
              "\n",
              "<div id=\"altair-viz-5405ee2e1081416d922f1c1a4e4516b0\"></div>\n",
              "<script type=\"text/javascript\">\n",
              "  var VEGA_DEBUG = (typeof VEGA_DEBUG == \"undefined\") ? {} : VEGA_DEBUG;\n",
              "  (function(spec, embedOpt){\n",
              "    let outputDiv = document.currentScript.previousElementSibling;\n",
              "    if (outputDiv.id !== \"altair-viz-5405ee2e1081416d922f1c1a4e4516b0\") {\n",
              "      outputDiv = document.getElementById(\"altair-viz-5405ee2e1081416d922f1c1a4e4516b0\");\n",
              "    }\n",
              "    const paths = {\n",
              "      \"vega\": \"https://cdn.jsdelivr.net/npm//vega@5?noext\",\n",
              "      \"vega-lib\": \"https://cdn.jsdelivr.net/npm//vega-lib?noext\",\n",
              "      \"vega-lite\": \"https://cdn.jsdelivr.net/npm//vega-lite@4.17.0?noext\",\n",
              "      \"vega-embed\": \"https://cdn.jsdelivr.net/npm//vega-embed@6?noext\",\n",
              "    };\n",
              "\n",
              "    function maybeLoadScript(lib, version) {\n",
              "      var key = `${lib.replace(\"-\", \"\")}_version`;\n",
              "      return (VEGA_DEBUG[key] == version) ?\n",
              "        Promise.resolve(paths[lib]) :\n",
              "        new Promise(function(resolve, reject) {\n",
              "          var s = document.createElement('script');\n",
              "          document.getElementsByTagName(\"head\")[0].appendChild(s);\n",
              "          s.async = true;\n",
              "          s.onload = () => {\n",
              "            VEGA_DEBUG[key] = version;\n",
              "            return resolve(paths[lib]);\n",
              "          };\n",
              "          s.onerror = () => reject(`Error loading script: ${paths[lib]}`);\n",
              "          s.src = paths[lib];\n",
              "        });\n",
              "    }\n",
              "\n",
              "    function showError(err) {\n",
              "      outputDiv.innerHTML = `<div class=\"error\" style=\"color:red;\">${err}</div>`;\n",
              "      throw err;\n",
              "    }\n",
              "\n",
              "    function displayChart(vegaEmbed) {\n",
              "      vegaEmbed(outputDiv, spec, embedOpt)\n",
              "        .catch(err => showError(`Javascript Error: ${err.message}<br>This usually means there's a typo in your chart specification. See the javascript console for the full traceback.`));\n",
              "    }\n",
              "\n",
              "    if(typeof define === \"function\" && define.amd) {\n",
              "      requirejs.config({paths});\n",
              "      require([\"vega-embed\"], displayChart, err => showError(`Error loading script: ${err.message}`));\n",
              "    } else {\n",
              "      maybeLoadScript(\"vega\", \"5\")\n",
              "        .then(() => maybeLoadScript(\"vega-lite\", \"4.17.0\"))\n",
              "        .then(() => maybeLoadScript(\"vega-embed\", \"6\"))\n",
              "        .catch(showError)\n",
              "        .then(() => displayChart(vegaEmbed));\n",
              "    }\n",
              "  })({\"config\": {\"view\": {\"continuousWidth\": 400, \"continuousHeight\": 300}, \"axisX\": {\"labelAngle\": 40}}, \"data\": {\"name\": \"data-15a35a1530afd33951086c8579205cad\"}, \"mark\": {\"type\": \"bar\", \"size\": 15}, \"encoding\": {\"color\": {\"value\": \"blue\"}, \"opacity\": {\"value\": 0.2}, \"x\": {\"field\": \"Country\", \"type\": \"nominal\"}, \"y\": {\"bin\": false, \"field\": \"% of people with electricity access\", \"scale\": {\"domain\": [0, 100]}, \"type\": \"quantitative\"}}, \"height\": 250, \"title\": \"All 20 countries with lowest access to electricity are in Africa\", \"width\": 400, \"$schema\": \"https://vega.github.io/schema/vega-lite/v4.17.0.json\", \"datasets\": {\"data-15a35a1530afd33951086c8579205cad\": [{\"Country\": \"Guinea\", \"Code\": \"GIN\", \"Year\": 2019, \"% of people with electricity access\": 42.4183883666992}, {\"Country\": \"Uganda\", \"Code\": \"UGA\", \"Year\": 2019, \"% of people with electricity access\": 41.3}, {\"Country\": \"Zimbabwe\", \"Code\": \"ZWE\", \"Year\": 2019, \"% of people with electricity access\": 41.0891075134277}, {\"Country\": \"Benin\", \"Code\": \"BEN\", \"Year\": 2019, \"% of people with electricity access\": 40.3187408447266}, {\"Country\": \"Rwanda\", \"Code\": \"RWA\", \"Year\": 2019, \"% of people with electricity access\": 37.7824363708496}, {\"Country\": \"Tanzania\", \"Code\": \"TZA\", \"Year\": 2019, \"% of people with electricity access\": 37.7}, {\"Country\": \"Somalia\", \"Code\": \"SOM\", \"Year\": 2019, \"% of people with electricity access\": 36.0331954956055}, {\"Country\": \"Guinea-Bissau\", \"Code\": \"GNB\", \"Year\": 2019, \"% of people with electricity access\": 31.040412902832}, {\"Country\": \"Mozambique\", \"Code\": \"MOZ\", \"Year\": 2019, \"% of people with electricity access\": 29.6161613464355}, {\"Country\": \"Liberia\", \"Code\": \"LBR\", \"Year\": 2019, \"% of people with electricity access\": 27.6492099761963}, {\"Country\": \"Madagascar\", \"Code\": \"MDG\", \"Year\": 2019, \"% of people with electricity access\": 26.9071846008301}, {\"Country\": \"Sierra Leone\", \"Code\": \"SLE\", \"Year\": 2019, \"% of people with electricity access\": 22.7}, {\"Country\": \"Democratic Republic of Congo\", \"Code\": \"COD\", \"Year\": 2019, \"% of people with electricity access\": 19.1}, {\"Country\": \"Niger\", \"Code\": \"NER\", \"Year\": 2019, \"% of people with electricity access\": 18.7747249603271}, {\"Country\": \"Burkina Faso\", \"Code\": \"BFA\", \"Year\": 2019, \"% of people with electricity access\": 18.3791522979736}, {\"Country\": \"Central African Republic\", \"Code\": \"CAF\", \"Year\": 2019, \"% of people with electricity access\": 14.3}, {\"Country\": \"Malawi\", \"Code\": \"MWI\", \"Year\": 2019, \"% of people with electricity access\": 11.2}, {\"Country\": \"Burundi\", \"Code\": \"BDI\", \"Year\": 2019, \"% of people with electricity access\": 11.0647974014282}, {\"Country\": \"Chad\", \"Code\": \"TCD\", \"Year\": 2019, \"% of people with electricity access\": 8.4}, {\"Country\": \"South Sudan\", \"Code\": \"SSD\", \"Year\": 2019, \"% of people with electricity access\": 6.72053527832031}]}}, {\"mode\": \"vega-lite\"});\n",
              "</script>"
            ],
            "text/plain": [
              "alt.Chart(...)"
            ]
          },
          "metadata": {},
          "execution_count": 7
        }
      ]
    },
    {
      "cell_type": "code",
      "source": [
        "# Importing Africa ISO Codes to filter data for Africa countries\n",
        "\n",
        "iso = pd.read_csv(\"iso_a3.csv\")\n",
        "africa = iso.merge(df, on=\"Code\")"
      ],
      "metadata": {
        "id": "u5VEcx03ovvl"
      },
      "execution_count": 8,
      "outputs": []
    },
    {
      "cell_type": "code",
      "source": [
        "#Creating a subset for 2019 alone and top countries in Africa\n",
        "africa2019 = africa[africa.Year==2019]\n",
        "\n",
        "\n",
        "africaTop = africa2019.sort_values(by='% of people with electricity access', ascending=False).head(20)"
      ],
      "metadata": {
        "id": "Im7k5DRapPK8"
      },
      "execution_count": 9,
      "outputs": []
    },
    {
      "cell_type": "code",
      "source": [
        "africaTop"
      ],
      "metadata": {
        "id": "jIP3qwmCq0D1"
      },
      "execution_count": null,
      "outputs": []
    },
    {
      "cell_type": "code",
      "source": [
        "#Plotting countries in top 20 \n",
        "bars2 = alt.Chart(africaTop, title=\"Only eight countries have electricity coverage of at least 90 percent\").mark_bar(size=15).encode(\n",
        "    x='Country_y',\n",
        "    y = alt.Y('% of people with electricity access', bin = False, scale=alt.Scale(domain=[0, 100])),\n",
        "    opacity=alt.value(0.2),\n",
        "    color=alt.value('blue')\n",
        ").properties(width=400,\n",
        "             height=250\n",
        ").configure_axisX(labelAngle=40)\n",
        "\n",
        "\n",
        "bars2.save('africaTop.html')"
      ],
      "metadata": {
        "id": "3dEc6cogo9qr"
      },
      "execution_count": 14,
      "outputs": []
    },
    {
      "cell_type": "code",
      "source": [
        "#Loading countries file\n",
        "countriesFile = gpd.read_file('countries.geojson')"
      ],
      "metadata": {
        "id": "rrn4fz3MJwDz",
        "colab": {
          "base_uri": "https://localhost:8080/",
          "height": 187
        },
        "outputId": "f96b39c6-5992-4032-9cb4-89e07ce6f0fd"
      },
      "execution_count": 15,
      "outputs": [
        {
          "output_type": "error",
          "ename": "NameError",
          "evalue": "ignored",
          "traceback": [
            "\u001b[0;31m---------------------------------------------------------------------------\u001b[0m",
            "\u001b[0;31mNameError\u001b[0m                                 Traceback (most recent call last)",
            "\u001b[0;32m<ipython-input-15-1216b1fec7e1>\u001b[0m in \u001b[0;36m<module>\u001b[0;34m()\u001b[0m\n\u001b[1;32m      1\u001b[0m \u001b[0;31m#Loading countries file\u001b[0m\u001b[0;34m\u001b[0m\u001b[0;34m\u001b[0m\u001b[0;34m\u001b[0m\u001b[0m\n\u001b[0;32m----> 2\u001b[0;31m \u001b[0mcountriesFile\u001b[0m \u001b[0;34m=\u001b[0m \u001b[0mgpd\u001b[0m\u001b[0;34m.\u001b[0m\u001b[0mread_file\u001b[0m\u001b[0;34m(\u001b[0m\u001b[0;34m'countries.geojson'\u001b[0m\u001b[0;34m)\u001b[0m\u001b[0;34m\u001b[0m\u001b[0;34m\u001b[0m\u001b[0m\n\u001b[0m",
            "\u001b[0;31mNameError\u001b[0m: name 'gpd' is not defined"
          ]
        }
      ]
    },
    {
      "cell_type": "code",
      "source": [
        "#Changing ISO_A3 to match Code column in CSV for merging\n",
        "countriesFile.rename(columns={'ISO_A3':'Code'},inplace=True)"
      ],
      "metadata": {
        "id": "u9NwK9o8Jzj_"
      },
      "execution_count": null,
      "outputs": []
    },
    {
      "cell_type": "code",
      "source": [
        "mergedDF=electricity2019.merge(countriesFile, on='Code')\n"
      ],
      "metadata": {
        "id": "-kPMrxUZGumC"
      },
      "execution_count": null,
      "outputs": []
    },
    {
      "cell_type": "code",
      "source": [
        "mergedDF"
      ],
      "metadata": {
        "colab": {
          "base_uri": "https://localhost:8080/",
          "height": 424
        },
        "id": "oOpBIVSbKZQd",
        "outputId": "9b6a03f3-59a4-45c4-fa97-7e3cb3b5e565"
      },
      "execution_count": null,
      "outputs": [
        {
          "output_type": "execute_result",
          "data": {
            "text/plain": [
              "          Entity Code  Year      Access        ADMIN  \\\n",
              "0    Afghanistan  AFG  2019   97.700000  Afghanistan   \n",
              "1        Albania  ALB  2019  100.000000      Albania   \n",
              "2        Algeria  DZA  2019   99.500000      Algeria   \n",
              "3        Andorra  AND  2019  100.000000      Andorra   \n",
              "4         Angola  AGO  2019   45.670315       Angola   \n",
              "..           ...  ...   ...         ...          ...   \n",
              "209    Venezuela  VEN  2019  100.000000    Venezuela   \n",
              "210      Vietnam  VNM  2019   99.400000      Vietnam   \n",
              "211        Yemen  YEM  2019   72.751701        Yemen   \n",
              "212       Zambia  ZMB  2019   43.000000       Zambia   \n",
              "213     Zimbabwe  ZWE  2019   41.089108     Zimbabwe   \n",
              "\n",
              "                                              geometry  \n",
              "0    POLYGON ((71.04980 38.40866, 71.05714 38.40903...  \n",
              "1    POLYGON ((19.74777 42.57890, 19.74601 42.57993...  \n",
              "2    POLYGON ((8.60251 36.93951, 8.60566 36.91305, ...  \n",
              "3    POLYGON ((1.70701 42.50278, 1.69750 42.49446, ...  \n",
              "4    MULTIPOLYGON (((11.73752 -16.69258, 11.73851 -...  \n",
              "..                                                 ...  \n",
              "209  MULTIPOLYGON (((-61.39027 8.58058, -61.36986 8...  \n",
              "210  MULTIPOLYGON (((106.66871 8.75349, 106.66586 8...  \n",
              "211  MULTIPOLYGON (((53.30824 12.11839, 53.31027 12...  \n",
              "212  POLYGON ((31.11984 -8.61663, 31.14102 -8.60619...  \n",
              "213  POLYGON ((30.01065 -15.64623, 30.05024 -15.640...  \n",
              "\n",
              "[214 rows x 6 columns]"
            ],
            "text/html": [
              "\n",
              "  <div id=\"df-253ce7cc-1877-463d-ac0d-2ffe0a43a62e\">\n",
              "    <div class=\"colab-df-container\">\n",
              "      <div>\n",
              "<style scoped>\n",
              "    .dataframe tbody tr th:only-of-type {\n",
              "        vertical-align: middle;\n",
              "    }\n",
              "\n",
              "    .dataframe tbody tr th {\n",
              "        vertical-align: top;\n",
              "    }\n",
              "\n",
              "    .dataframe thead th {\n",
              "        text-align: right;\n",
              "    }\n",
              "</style>\n",
              "<table border=\"1\" class=\"dataframe\">\n",
              "  <thead>\n",
              "    <tr style=\"text-align: right;\">\n",
              "      <th></th>\n",
              "      <th>Entity</th>\n",
              "      <th>Code</th>\n",
              "      <th>Year</th>\n",
              "      <th>Access</th>\n",
              "      <th>ADMIN</th>\n",
              "      <th>geometry</th>\n",
              "    </tr>\n",
              "  </thead>\n",
              "  <tbody>\n",
              "    <tr>\n",
              "      <th>0</th>\n",
              "      <td>Afghanistan</td>\n",
              "      <td>AFG</td>\n",
              "      <td>2019</td>\n",
              "      <td>97.700000</td>\n",
              "      <td>Afghanistan</td>\n",
              "      <td>POLYGON ((71.04980 38.40866, 71.05714 38.40903...</td>\n",
              "    </tr>\n",
              "    <tr>\n",
              "      <th>1</th>\n",
              "      <td>Albania</td>\n",
              "      <td>ALB</td>\n",
              "      <td>2019</td>\n",
              "      <td>100.000000</td>\n",
              "      <td>Albania</td>\n",
              "      <td>POLYGON ((19.74777 42.57890, 19.74601 42.57993...</td>\n",
              "    </tr>\n",
              "    <tr>\n",
              "      <th>2</th>\n",
              "      <td>Algeria</td>\n",
              "      <td>DZA</td>\n",
              "      <td>2019</td>\n",
              "      <td>99.500000</td>\n",
              "      <td>Algeria</td>\n",
              "      <td>POLYGON ((8.60251 36.93951, 8.60566 36.91305, ...</td>\n",
              "    </tr>\n",
              "    <tr>\n",
              "      <th>3</th>\n",
              "      <td>Andorra</td>\n",
              "      <td>AND</td>\n",
              "      <td>2019</td>\n",
              "      <td>100.000000</td>\n",
              "      <td>Andorra</td>\n",
              "      <td>POLYGON ((1.70701 42.50278, 1.69750 42.49446, ...</td>\n",
              "    </tr>\n",
              "    <tr>\n",
              "      <th>4</th>\n",
              "      <td>Angola</td>\n",
              "      <td>AGO</td>\n",
              "      <td>2019</td>\n",
              "      <td>45.670315</td>\n",
              "      <td>Angola</td>\n",
              "      <td>MULTIPOLYGON (((11.73752 -16.69258, 11.73851 -...</td>\n",
              "    </tr>\n",
              "    <tr>\n",
              "      <th>...</th>\n",
              "      <td>...</td>\n",
              "      <td>...</td>\n",
              "      <td>...</td>\n",
              "      <td>...</td>\n",
              "      <td>...</td>\n",
              "      <td>...</td>\n",
              "    </tr>\n",
              "    <tr>\n",
              "      <th>209</th>\n",
              "      <td>Venezuela</td>\n",
              "      <td>VEN</td>\n",
              "      <td>2019</td>\n",
              "      <td>100.000000</td>\n",
              "      <td>Venezuela</td>\n",
              "      <td>MULTIPOLYGON (((-61.39027 8.58058, -61.36986 8...</td>\n",
              "    </tr>\n",
              "    <tr>\n",
              "      <th>210</th>\n",
              "      <td>Vietnam</td>\n",
              "      <td>VNM</td>\n",
              "      <td>2019</td>\n",
              "      <td>99.400000</td>\n",
              "      <td>Vietnam</td>\n",
              "      <td>MULTIPOLYGON (((106.66871 8.75349, 106.66586 8...</td>\n",
              "    </tr>\n",
              "    <tr>\n",
              "      <th>211</th>\n",
              "      <td>Yemen</td>\n",
              "      <td>YEM</td>\n",
              "      <td>2019</td>\n",
              "      <td>72.751701</td>\n",
              "      <td>Yemen</td>\n",
              "      <td>MULTIPOLYGON (((53.30824 12.11839, 53.31027 12...</td>\n",
              "    </tr>\n",
              "    <tr>\n",
              "      <th>212</th>\n",
              "      <td>Zambia</td>\n",
              "      <td>ZMB</td>\n",
              "      <td>2019</td>\n",
              "      <td>43.000000</td>\n",
              "      <td>Zambia</td>\n",
              "      <td>POLYGON ((31.11984 -8.61663, 31.14102 -8.60619...</td>\n",
              "    </tr>\n",
              "    <tr>\n",
              "      <th>213</th>\n",
              "      <td>Zimbabwe</td>\n",
              "      <td>ZWE</td>\n",
              "      <td>2019</td>\n",
              "      <td>41.089108</td>\n",
              "      <td>Zimbabwe</td>\n",
              "      <td>POLYGON ((30.01065 -15.64623, 30.05024 -15.640...</td>\n",
              "    </tr>\n",
              "  </tbody>\n",
              "</table>\n",
              "<p>214 rows × 6 columns</p>\n",
              "</div>\n",
              "      <button class=\"colab-df-convert\" onclick=\"convertToInteractive('df-253ce7cc-1877-463d-ac0d-2ffe0a43a62e')\"\n",
              "              title=\"Convert this dataframe to an interactive table.\"\n",
              "              style=\"display:none;\">\n",
              "        \n",
              "  <svg xmlns=\"http://www.w3.org/2000/svg\" height=\"24px\"viewBox=\"0 0 24 24\"\n",
              "       width=\"24px\">\n",
              "    <path d=\"M0 0h24v24H0V0z\" fill=\"none\"/>\n",
              "    <path d=\"M18.56 5.44l.94 2.06.94-2.06 2.06-.94-2.06-.94-.94-2.06-.94 2.06-2.06.94zm-11 1L8.5 8.5l.94-2.06 2.06-.94-2.06-.94L8.5 2.5l-.94 2.06-2.06.94zm10 10l.94 2.06.94-2.06 2.06-.94-2.06-.94-.94-2.06-.94 2.06-2.06.94z\"/><path d=\"M17.41 7.96l-1.37-1.37c-.4-.4-.92-.59-1.43-.59-.52 0-1.04.2-1.43.59L10.3 9.45l-7.72 7.72c-.78.78-.78 2.05 0 2.83L4 21.41c.39.39.9.59 1.41.59.51 0 1.02-.2 1.41-.59l7.78-7.78 2.81-2.81c.8-.78.8-2.07 0-2.86zM5.41 20L4 18.59l7.72-7.72 1.47 1.35L5.41 20z\"/>\n",
              "  </svg>\n",
              "      </button>\n",
              "      \n",
              "  <style>\n",
              "    .colab-df-container {\n",
              "      display:flex;\n",
              "      flex-wrap:wrap;\n",
              "      gap: 12px;\n",
              "    }\n",
              "\n",
              "    .colab-df-convert {\n",
              "      background-color: #E8F0FE;\n",
              "      border: none;\n",
              "      border-radius: 50%;\n",
              "      cursor: pointer;\n",
              "      display: none;\n",
              "      fill: #1967D2;\n",
              "      height: 32px;\n",
              "      padding: 0 0 0 0;\n",
              "      width: 32px;\n",
              "    }\n",
              "\n",
              "    .colab-df-convert:hover {\n",
              "      background-color: #E2EBFA;\n",
              "      box-shadow: 0px 1px 2px rgba(60, 64, 67, 0.3), 0px 1px 3px 1px rgba(60, 64, 67, 0.15);\n",
              "      fill: #174EA6;\n",
              "    }\n",
              "\n",
              "    [theme=dark] .colab-df-convert {\n",
              "      background-color: #3B4455;\n",
              "      fill: #D2E3FC;\n",
              "    }\n",
              "\n",
              "    [theme=dark] .colab-df-convert:hover {\n",
              "      background-color: #434B5C;\n",
              "      box-shadow: 0px 1px 3px 1px rgba(0, 0, 0, 0.15);\n",
              "      filter: drop-shadow(0px 1px 2px rgba(0, 0, 0, 0.3));\n",
              "      fill: #FFFFFF;\n",
              "    }\n",
              "  </style>\n",
              "\n",
              "      <script>\n",
              "        const buttonEl =\n",
              "          document.querySelector('#df-253ce7cc-1877-463d-ac0d-2ffe0a43a62e button.colab-df-convert');\n",
              "        buttonEl.style.display =\n",
              "          google.colab.kernel.accessAllowed ? 'block' : 'none';\n",
              "\n",
              "        async function convertToInteractive(key) {\n",
              "          const element = document.querySelector('#df-253ce7cc-1877-463d-ac0d-2ffe0a43a62e');\n",
              "          const dataTable =\n",
              "            await google.colab.kernel.invokeFunction('convertToInteractive',\n",
              "                                                     [key], {});\n",
              "          if (!dataTable) return;\n",
              "\n",
              "          const docLinkHtml = 'Like what you see? Visit the ' +\n",
              "            '<a target=\"_blank\" href=https://colab.research.google.com/notebooks/data_table.ipynb>data table notebook</a>'\n",
              "            + ' to learn more about interactive tables.';\n",
              "          element.innerHTML = '';\n",
              "          dataTable['output_type'] = 'display_data';\n",
              "          await google.colab.output.renderOutput(dataTable, element);\n",
              "          const docLink = document.createElement('div');\n",
              "          docLink.innerHTML = docLinkHtml;\n",
              "          element.appendChild(docLink);\n",
              "        }\n",
              "      </script>\n",
              "    </div>\n",
              "  </div>\n",
              "  "
            ]
          },
          "metadata": {},
          "execution_count": 155
        }
      ]
    },
    {
      "cell_type": "code",
      "source": [
        "#Converting to geojson\n",
        "gdf = gpd.GeoDataFrame(mergedDF, crs=\"EPSG:4326\", geometry=mergedDF.geometry)\n",
        "gdf.to_file('Power2019.geojson', driver='GeoJSON')\n"
      ],
      "metadata": {
        "id": "ASmjJajr9FDr"
      },
      "execution_count": null,
      "outputs": []
    },
    {
      "cell_type": "code",
      "source": [
        "gdf.Access.min()"
      ],
      "metadata": {
        "colab": {
          "base_uri": "https://localhost:8080/"
        },
        "id": "ATU6OFKcAJlJ",
        "outputId": "fd6d2f49-7d46-4f6a-9ba7-366ba10a2eb6"
      },
      "execution_count": null,
      "outputs": [
        {
          "output_type": "execute_result",
          "data": {
            "text/plain": [
              "6.72053527832031"
            ]
          },
          "metadata": {},
          "execution_count": 159
        }
      ]
    },
    {
      "cell_type": "code",
      "source": [
        ""
      ],
      "metadata": {
        "id": "MFz3QOR0NI-p"
      },
      "execution_count": null,
      "outputs": []
    }
  ]
}